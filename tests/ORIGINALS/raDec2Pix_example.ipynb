{
 "cells": [
  {
   "cell_type": "code",
   "execution_count": 1,
   "metadata": {},
   "outputs": [],
   "source": [
    "import numpy as np\n",
    "import raDec2Pix\n",
    "import matplotlib.pyplot as plt\n",
    "from astropy.time import Time"
   ]
  },
  {
   "cell_type": "markdown",
   "metadata": {},
   "source": [
    "Create an raDec2Pix object"
   ]
  },
  {
   "cell_type": "code",
   "execution_count": 2,
   "metadata": {},
   "outputs": [],
   "source": [
    "rdp = raDec2Pix.raDec2PixClass(\"raDec2PixDir\")"
   ]
  },
  {
   "cell_type": "markdown",
   "metadata": {},
   "source": [
    "Set up some interesting times, which are the day after the rolls into the Q4, Q5, Q6 and Q7 pointings, and create arrays of once-a-day times for a year and each quarter's 90-day duration."
   ]
  },
  {
   "cell_type": "code",
   "execution_count": 3,
   "metadata": {},
   "outputs": [],
   "source": [
    "q4 = Time('2009-12-18 00:00:00.000', format='iso', scale='utc')\n",
    "q5 = Time('2010-03-21 00:00:00.000', format='iso', scale='utc')\n",
    "q6 = Time('2010-06-25 00:00:00.000', format='iso', scale='utc')\n",
    "q7 = Time('2010-09-24 00:00:00.000', format='iso', scale='utc')\n",
    "q8 = Time('2011-01-06 00:00:00.000', format='iso', scale='utc')\n",
    "\n",
    "oneYear = q4.mjd + np.arange(372) # Kepler's year = orbital period\n",
    "ninetyDays4 = q4.mjd + np.arange(90)\n",
    "ninetyDays5 = q5.mjd + np.arange(90)\n",
    "ninetyDays6 = q6.mjd + np.arange(90)\n",
    "ninetyDays7 = q7.mjd + np.arange(90)"
   ]
  },
  {
   "cell_type": "markdown",
   "metadata": {},
   "source": [
    "Pick a sky location that falls on the field of view."
   ]
  },
  {
   "cell_type": "code",
   "execution_count": 4,
   "metadata": {},
   "outputs": [],
   "source": [
    "# near edge of focal plane\n",
    "RA = 15*19.993006\n",
    "DEC = 40.6334\n",
    "\n",
    "# near center of focal plane\n",
    "# avoid module 13 because of large changes in pixel position and CCD orientation after quarterly rotations\n",
    "# RA = 15*19.2760015\n",
    "# DEC = 45.905194\n"
   ]
  },
  {
   "cell_type": "markdown",
   "metadata": {},
   "source": [
    "Get the pixel position of some place on the focal plane, and observe how that changes throughout the year."
   ]
  },
  {
   "cell_type": "code",
   "execution_count": 5,
   "metadata": {},
   "outputs": [
    {
     "name": "stdout",
     "output_type": "stream",
     "text": [
      "quarter 4 module 22, output 3, row 162.8879188939173, column 99.7341745175919\n",
      "quarter 5 module 20, output 3, row 162.60964523636673, column 99.43600659379706\n",
      "quarter 6 module 4, output 3, row 160.87615194924226, column 94.71126644374749\n",
      "quarter 7 module 6, output 3, row 166.43093639396938, column 94.01385468443198\n"
     ]
    }
   ],
   "source": [
    "m, o, r, c = rdp.ra_dec_2_pix(RA, DEC, q4.mjd)\n",
    "print(\"quarter 4 module \" + str(m) + \", output \" + str(o) + \", row \" + str(r) + \", column \" + str(c))\n",
    "m, o, r, c = rdp.ra_dec_2_pix(RA, DEC, q5.mjd)\n",
    "print(\"quarter 5 module \" + str(m) + \", output \" + str(o) + \", row \" + str(r) + \", column \" + str(c))\n",
    "m, o, r, c = rdp.ra_dec_2_pix(RA, DEC, q6.mjd)\n",
    "print(\"quarter 6 module \" + str(m) + \", output \" + str(o) + \", row \" + str(r) + \", column \" + str(c))\n",
    "m, o, r, c = rdp.ra_dec_2_pix(RA, DEC, q7.mjd)\n",
    "print(\"quarter 7 module \" + str(m) + \", output \" + str(o) + \", row \" + str(r) + \", column \" + str(c))"
   ]
  },
  {
   "cell_type": "markdown",
   "metadata": {},
   "source": [
    "See how closely we return to the same pixel position in Q8, after one year."
   ]
  },
  {
   "cell_type": "code",
   "execution_count": 6,
   "metadata": {},
   "outputs": [
    {
     "name": "stdout",
     "output_type": "stream",
     "text": [
      "quarter 8 module 22, output 3, row 162.92756654405633, column 99.76959773545263\n"
     ]
    }
   ],
   "source": [
    "m, o, r, c = rdp.ra_dec_2_pix(RA, DEC, q8.mjd)\n",
    "print(\"quarter 8 module \" + str(m) + \", output \" + str(o) + \", row \" + str(r) + \", column \" + str(c))\n"
   ]
  },
  {
   "cell_type": "markdown",
   "metadata": {},
   "source": [
    "Compute the pixel positions for each day."
   ]
  },
  {
   "cell_type": "code",
   "execution_count": 7,
   "metadata": {},
   "outputs": [],
   "source": [
    "m, o, r, c = rdp.ra_dec_2_pix(RA, DEC, oneYear)\n",
    "m4, o4, r4, c4 = rdp.ra_dec_2_pix(RA, DEC, ninetyDays4)\n",
    "m5, o5, r5, c5 = rdp.ra_dec_2_pix(RA, DEC, ninetyDays5)\n",
    "m6, o6, r6, c6 = rdp.ra_dec_2_pix(RA, DEC, ninetyDays6)\n",
    "m7, o7, r7, c7 = rdp.ra_dec_2_pix(RA, DEC, ninetyDays7)\n"
   ]
  },
  {
   "cell_type": "markdown",
   "metadata": {},
   "source": [
    "Plot the roll to see how it changes from quarter to quarter due to the slightly different CCD positions on the FOV and differential velocity aberration (DVA)."
   ]
  },
  {
   "cell_type": "code",
   "execution_count": 8,
   "metadata": {},
   "outputs": [
    {
     "data": {
      "image/png": "[encoded data removed]",
      "text/plain": [
       "<Figure size 432x288 with 1 Axes>"
      ]
     },
     "metadata": {
      "needs_background": "light"
     },
     "output_type": "display_data"
    }
   ],
   "source": [
    "plt.plot(oneYear, r);\n",
    "plt.xlabel(\"MJD\");\n",
    "plt.ylabel(\"row\");"
   ]
  },
  {
   "cell_type": "markdown",
   "metadata": {},
   "source": [
    "Approximately piece them together to see how DVA changes the row within each quarter."
   ]
  },
  {
   "cell_type": "code",
   "execution_count": 9,
   "metadata": {},
   "outputs": [
    {
     "data": {
      "image/png": "[encoded data removed]",
      "text/plain": [
       "<Figure size 432x288 with 1 Axes>"
      ]
     },
     "metadata": {
      "needs_background": "light"
     },
     "output_type": "display_data"
    }
   ],
   "source": [
    "plt.plot(ninetyDays4, r4);\n",
    "plt.plot(ninetyDays5, r5 - r5[0] + r4[-1]);\n",
    "lr = r5[-1] - r5[0] + r4[-1];\n",
    "plt.plot(ninetyDays6, r6 - r6[0] + lr);\n",
    "lr = r6[-1] - r6[0] + lr;\n",
    "plt.plot(ninetyDays7, r7 - r7[0] + lr);\n",
    "plt.xlabel(\"MJD\");\n",
    "plt.ylabel(\"row\");"
   ]
  },
  {
   "cell_type": "markdown",
   "metadata": {},
   "source": [
    "Plot in 2D to see how a star moves on the focal plane due to DVA. DVA is large when near the edge of the focal plane."
   ]
  },
  {
   "cell_type": "code",
   "execution_count": 10,
   "metadata": {},
   "outputs": [
    {
     "data": {
      "image/png": "[encoded data removed]",
      "text/plain": [
       "<Figure size 360x360 with 1 Axes>"
      ]
     },
     "metadata": {
      "needs_background": "light"
     },
     "output_type": "display_data"
    }
   ],
   "source": [
    "fig, ax = plt.subplots(1,1, figsize=(5,5))\n",
    "plt.plot(c4, r4, '.');\n",
    "plt.plot(c5 - c5[0] + c4[-1], r5 - r5[0] + r4[-1], '.');\n",
    "lr = r5[-1] - r5[0] + r4[-1];\n",
    "lc = c5[-1] - c5[0] + c4[-1];\n",
    "plt.plot(c6 - c6[0] + lc, r6 - r6[0] + lr, '.');\n",
    "lr = r6[-1] - r6[0] + lr;\n",
    "lc = c6[-1] - c6[0] + lc;\n",
    "plt.plot(c7 - c7[0] + lc, r7 - r7[0] + lr, '.');\n",
    "# ax.axis('equal')\n",
    "xl = plt.xlim();\n",
    "midx = np.mean(xl);\n",
    "plt.xlim(midx-0.5, midx+0.5)\n",
    "yl = plt.ylim();\n",
    "midy = np.mean(yl);\n",
    "plt.ylim(midy-0.5, midy+0.5)\n",
    "plt.xlabel(\"column\");\n",
    "plt.ylabel(\"row\");\n",
    "plt.title(\"Star motion due to DVA. image size = 1 pixel\");\n",
    "plt.legend([\"Q4\", \"Q5\", \"Q6\", \"Q7\"]);"
   ]
  }
 ],
 "metadata": {
  "kernelspec": {
   "display_name": "Python 3",
   "language": "python",
   "name": "python3"
  },
  "language_info": {
   "codemirror_mode": {
    "name": "ipython",
    "version": 3
   },
   "file_extension": ".py",
   "mimetype": "text/x-python",
   "name": "python",
   "nbconvert_exporter": "python",
   "pygments_lexer": "ipython3",
   "version": "3.6.10"
  }
 },
 "nbformat": 4,
 "nbformat_minor": 2
}
