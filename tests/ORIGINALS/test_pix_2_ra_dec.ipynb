{
 "cells": [
  {
   "cell_type": "code",
   "execution_count": 1,
   "metadata": {},
   "outputs": [],
   "source": [
    "import numpy as np\n",
    "import raDec2Pix\n"
   ]
  },
  {
   "cell_type": "markdown",
   "metadata": {},
   "source": [
    "Test the pix_2_ra_dec method of the raDec2Pix class by comparing inputs and outputs with data created by ra_dec_2_pix in the SOC Matlab pipeline."
   ]
  },
  {
   "cell_type": "code",
   "execution_count": 2,
   "metadata": {},
   "outputs": [],
   "source": [
    "testData = np.loadtxt('raDec2PixDir/raDec2PixTestData.txt', skiprows=1, delimiter=\",\");\n",
    "testRange = list(range(0,31)); # valid on CCD pixel coordinates\n",
    "testRange.extend(list(range(39,47))); # add K2 on CCD\n",
    "testMjds = testData[testRange,0];\n",
    "testRas = testData[testRange,1];\n",
    "testDecs = testData[testRange,2];\n",
    "testModule = testData[testRange,3];\n",
    "testOutput = testData[testRange,4];\n",
    "testRow = testData[testRange,5];\n",
    "testColumn = testData[testRange,6];\n",
    "\n",
    "tolerance = 1e-8;"
   ]
  },
  {
   "cell_type": "code",
   "execution_count": 3,
   "metadata": {},
   "outputs": [],
   "source": [
    "rdp = raDec2Pix.raDec2PixClass(\"raDec2PixDir\")"
   ]
  },
  {
   "cell_type": "code",
   "execution_count": null,
   "metadata": {
    "scrolled": true
   },
   "outputs": [],
   "source": []
  },
  {
   "cell_type": "code",
   "execution_count": 4,
   "metadata": {},
   "outputs": [
    {
     "name": "stdout",
     "output_type": "stream",
     "text": [
      "one at a time, everthing is OK\n"
     ]
    }
   ],
   "source": [
    "# test one at a time\n",
    "allOK = True;\n",
    "\n",
    "for i in range(len(testMjds)):\n",
    "    ra, dec = rdp.pix_2_ra_dec(testModule[i], testOutput[i], testRow[i], testColumn[i], testMjds[i]);\n",
    "    \n",
    "    if (np.abs(testRas[i] - ra) > tolerance) | (np.abs(testDecs[i] - dec) > tolerance):\n",
    "        print(str(i) + \" failed: expected \" + str([testRas[i], testDecs[i]]))\n",
    "        print(\"      got \" + str([ra, dec]))\n",
    "        print([testModule[i], testOutput[i], testRow[i], testColumn[i], testMjds[i]])\n",
    "        allOK = False\n",
    "if allOK:\n",
    "    print(\"one at a time, everthing is OK\")\n",
    "    \n"
   ]
  },
  {
   "cell_type": "code",
   "execution_count": 5,
   "metadata": {},
   "outputs": [
    {
     "name": "stdout",
     "output_type": "stream",
     "text": [
      "all at once, everthing is OK\n"
     ]
    }
   ],
   "source": [
    "# test all at once\n",
    "ra, dec = rdp.pix_2_ra_dec(testModule, testOutput, testRow, testColumn, testMjds);\n",
    "# returns matrices \n",
    "for i in range(len(testMjds)):\n",
    "    \n",
    "    if (np.abs(testRas[i] - ra[i,i]) > tolerance) | (np.abs(testDecs[i] - dec[i,i]) > tolerance):\n",
    "        print(str(i) + \" failed: expected \" + str([testRas[i], testDecs[i]]))\n",
    "        print(\"      got \" + str([ra[i,i], dec[i,i]]))\n",
    "        print([testModule[i], testOutput[i], testRow[i], testColumn[i], testMjds[i]])\n",
    "        allOK = False\n",
    "if allOK:\n",
    "    print(\"all at once, everthing is OK\")\n"
   ]
  },
  {
   "cell_type": "code",
   "execution_count": 6,
   "metadata": {},
   "outputs": [],
   "source": [
    "# pointingTest \n",
    "pointingTestData = np.loadtxt('raDec2PixDir/raDec2PixTestDataPointings.txt', skiprows=0, delimiter=\",\");\n",
    "testRange = [0, 2, 3] ; # specified pointing (1 is not on valid CCD coordinates)\n",
    "pointingTestMjds = pointingTestData[testRange,0];\n",
    "pointingTestRas = pointingTestData[testRange,1];\n",
    "pointingTestDecs = pointingTestData[testRange,2];\n",
    "pointingTestModule = pointingTestData[testRange,3];\n",
    "pointingTestOutput = pointingTestData[testRange,4];\n",
    "pointingTestRow = pointingTestData[testRange,5];\n",
    "pointingTestColumn = pointingTestData[testRange,6];\n",
    "pointingTestRaPointings = pointingTestData[testRange,7];\n",
    "pointingTestDecPointings = pointingTestData[testRange,8];\n",
    "pointingTestRollPointings = pointingTestData[testRange,9];\n",
    "pointingTestRaDeltas = pointingTestData[testRange,10];\n",
    "pointingTestDecDeltas = pointingTestData[testRange,11];\n",
    "pointingTestRollDeltas = pointingTestData[testRange,12];\n"
   ]
  },
  {
   "cell_type": "code",
   "execution_count": 7,
   "metadata": {},
   "outputs": [
    {
     "name": "stdout",
     "output_type": "stream",
     "text": [
      "one at a time, everthing is OK\n"
     ]
    }
   ],
   "source": [
    "# test one at a time\n",
    "allOK = True;\n",
    "\n",
    "for i in range(len(pointingTestMjds)):\n",
    "    ra, dec = rdp.pix_2_ra_dec(pointingTestModule[i], pointingTestOutput[i], \n",
    "                               pointingTestRow[i], pointingTestColumn[i], pointingTestMjds[i], \n",
    "                               pointingTestRaPointings[i], pointingTestDecPointings[i], pointingTestRollPointings[i]);\n",
    "    \n",
    "    if (np.abs(pointingTestRas[i] - ra) > tolerance) | (np.abs(pointingTestDecs[i] - dec) > tolerance):\n",
    "        print(str(i) + \" failed: expected \" + str([pointingTestRas[i], pointingTestDecs[i]]))\n",
    "        print(\"      got \" + str([ra, dec]))\n",
    "        allOK = False\n",
    "if allOK:\n",
    "    print(\"one at a time, everthing is OK\")\n",
    "    \n"
   ]
  },
  {
   "cell_type": "code",
   "execution_count": 8,
   "metadata": {},
   "outputs": [
    {
     "name": "stdout",
     "output_type": "stream",
     "text": [
      "all at once, everthing is OK\n"
     ]
    }
   ],
   "source": [
    "# test all at once\n",
    "allOK = True;\n",
    "\n",
    "ra, dec = rdp.pix_2_ra_dec(pointingTestModule, pointingTestOutput, \n",
    "                           pointingTestRow, pointingTestColumn, pointingTestMjds, \n",
    "                           pointingTestRaPointings, pointingTestDecPointings, pointingTestRollPointings);\n",
    "for i in range(len(pointingTestMjds)):\n",
    "    \n",
    "    if (np.abs(pointingTestRas[i] - ra[i,i]) > tolerance) | (np.abs(pointingTestDecs[i] - dec[i,i]) > tolerance):\n",
    "        print(str(i) + \" failed: expected \" + str([pointingTestRas[i], pointingTestDecs[i]]))\n",
    "        print(\"      got \" + str([ra[i,i], dec[i,i]]))\n",
    "        allOK = False\n",
    "if allOK:\n",
    "    print(\"all at once, everthing is OK\")\n",
    "    \n"
   ]
  },
  {
   "cell_type": "code",
   "execution_count": 9,
   "metadata": {},
   "outputs": [],
   "source": [
    "testRange = [4, 5, 6, 7, 8] ; # delta pointing\n",
    "pointingTestMjds = pointingTestData[testRange,0];\n",
    "pointingTestRas = pointingTestData[testRange,1];\n",
    "pointingTestDecs = pointingTestData[testRange,2];\n",
    "pointingTestModule = pointingTestData[testRange,3];\n",
    "pointingTestOutput = pointingTestData[testRange,4];\n",
    "pointingTestRow = pointingTestData[testRange,5];\n",
    "pointingTestColumn = pointingTestData[testRange,6];\n",
    "pointingTestRaPointings = pointingTestData[testRange,7];\n",
    "pointingTestDecPointings = pointingTestData[testRange,8];\n",
    "pointingTestRollPointings = pointingTestData[testRange,9];\n",
    "pointingTestRaDeltas = pointingTestData[testRange,10];\n",
    "pointingTestDecDeltas = pointingTestData[testRange,11];\n",
    "pointingTestRollDeltas = pointingTestData[testRange,12];\n"
   ]
  },
  {
   "cell_type": "code",
   "execution_count": 10,
   "metadata": {},
   "outputs": [
    {
     "name": "stdout",
     "output_type": "stream",
     "text": [
      "one at a time, everthing is OK\n"
     ]
    }
   ],
   "source": [
    "# test one at a time\n",
    "allOK = True;\n",
    "\n",
    "for i in range(len(pointingTestMjds)):\n",
    "    ra, dec = rdp.pix_2_ra_dec(pointingTestModule[i], pointingTestOutput[i], \n",
    "                               pointingTestRow[i], pointingTestColumn[i], pointingTestMjds[i], \n",
    "                               deltaRa = pointingTestRaDeltas[i], \n",
    "                               deltaDec = pointingTestDecDeltas[i], \n",
    "                               deltaRoll = pointingTestRollDeltas[i]);\n",
    "    \n",
    "    if (np.abs(pointingTestRas[i] - ra) > tolerance) | (np.abs(pointingTestDecs[i] - dec) > tolerance):\n",
    "        print(str(i) + \" failed: expected \" + str([pointingTestRas[i], pointingTestDecs[i]]))\n",
    "        print(\"      got \" + str([ra, dec]))\n",
    "        allOK = False\n",
    "if allOK:\n",
    "    print(\"one at a time, everthing is OK\")\n",
    "    \n"
   ]
  },
  {
   "cell_type": "code",
   "execution_count": 11,
   "metadata": {},
   "outputs": [
    {
     "name": "stdout",
     "output_type": "stream",
     "text": [
      "all at once, everthing is OK\n"
     ]
    }
   ],
   "source": [
    "# test all at once\n",
    "allOK = True;\n",
    "\n",
    "ra, dec = rdp.pix_2_ra_dec(pointingTestModule, pointingTestOutput, \n",
    "                           pointingTestRow, pointingTestColumn, pointingTestMjds, \n",
    "                           deltaRa = pointingTestRaDeltas, \n",
    "                           deltaDec = pointingTestDecDeltas, \n",
    "                           deltaRoll = pointingTestRollDeltas);\n",
    "for i in range(len(pointingTestMjds)):\n",
    "    \n",
    "    if (np.abs(pointingTestRas[i] - ra[i,i]) > tolerance) | (np.abs(pointingTestDecs[i] - dec[i,i]) > tolerance):\n",
    "        print(str(i) + \" failed: expected \" + str([pointingTestRas[i], pointingTestDecs[i]]))\n",
    "        print(\"      got \" + str([ra[i,i], dec[i,i]]))\n",
    "        allOK = False\n",
    "if allOK:\n",
    "    print(\"all at once, everthing is OK\")\n",
    "    \n"
   ]
  },
  {
   "cell_type": "code",
   "execution_count": null,
   "metadata": {},
   "outputs": [],
   "source": []
  }
 ],
 "metadata": {
  "kernelspec": {
   "display_name": "Python 3",
   "language": "python",
   "name": "python3"
  },
  "language_info": {
   "codemirror_mode": {
    "name": "ipython",
    "version": 3
   },
   "file_extension": ".py",
   "mimetype": "text/x-python",
   "name": "python",
   "nbconvert_exporter": "python",
   "pygments_lexer": "ipython3",
   "version": "3.6.10"
  }
 },
 "nbformat": 4,
 "nbformat_minor": 2
}
