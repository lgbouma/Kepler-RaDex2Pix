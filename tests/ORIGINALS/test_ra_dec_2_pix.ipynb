{
 "cells": [
  {
   "cell_type": "code",
   "execution_count": 1,
   "metadata": {
    "scrolled": true
   },
   "outputs": [],
   "source": [
    "import numpy as np\n",
    "import raDec2Pix\n"
   ]
  },
  {
   "cell_type": "markdown",
   "metadata": {},
   "source": [
    "Test the ra_dec_2_pix method of the raDec2Pix class by comparing inputs and outputs with data created by ra_dec_2_pix in the SOC Matlab pipeline."
   ]
  },
  {
   "cell_type": "code",
   "execution_count": 2,
   "metadata": {},
   "outputs": [],
   "source": [
    "testData = np.loadtxt('raDec2PixDir/raDec2PixTestData.txt', skiprows=1, delimiter=\",\");\n",
    "testMjds = testData[:,0];\n",
    "testRas = testData[:,1];\n",
    "testDecs = testData[:,2];\n",
    "testModule = testData[:,3];\n",
    "testOutput = testData[:,4];\n",
    "testRow = testData[:,5];\n",
    "testColumn = testData[:,6];\n",
    "\n",
    "tolerance = 1e-9;"
   ]
  },
  {
   "cell_type": "code",
   "execution_count": 3,
   "metadata": {},
   "outputs": [],
   "source": [
    "rdp = raDec2Pix.raDec2PixClass(\"raDec2PixDir\")"
   ]
  },
  {
   "cell_type": "code",
   "execution_count": 4,
   "metadata": {},
   "outputs": [
    {
     "name": "stdout",
     "output_type": "stream",
     "text": [
      "one at a time, everthing is OK\n"
     ]
    }
   ],
   "source": [
    "# test one at a time\n",
    "allOK = True;\n",
    "\n",
    "for i in range(len(testMjds)):\n",
    "    m, o, r, c = rdp.ra_dec_2_pix(testRas[i], testDecs[i], testMjds[i]);\n",
    "    \n",
    "    if (np.abs(testModule[i] - m) > tolerance) | (np.abs(testOutput[i] - o) > tolerance) \\\n",
    "        | (np.abs(testRow[i] - r) > tolerance) | (np.abs(testColumn[i] - c) > tolerance):\n",
    "        print(str(i) + \" failed: expected \" + str([testModule[i], testOutput[i], testRow[i], testColumn[i]]))\n",
    "        print(\"      got \" + str([m, o, r, c]))\n",
    "        allOK = False\n",
    "if allOK:\n",
    "    print(\"one at a time, everthing is OK\")\n",
    "    \n",
    "        \n",
    "        "
   ]
  },
  {
   "cell_type": "code",
   "execution_count": 5,
   "metadata": {
    "scrolled": false
   },
   "outputs": [
    {
     "name": "stdout",
     "output_type": "stream",
     "text": [
      "all at once, everthing is OK\n"
     ]
    }
   ],
   "source": [
    "# test all at once\n",
    "m, o, r, c = rdp.ra_dec_2_pix(testRas, testDecs, testMjds);\n",
    "# returns matrices of all the (ra, dec) pairs each at all the mjds\n",
    "allOK = True;\n",
    "for i in range(len(testMjds)):\n",
    "    # test the diagonals since that is where the test data is defined\n",
    "    if (np.abs(testModule[i] - m[i,i]) > tolerance) | (np.abs(testOutput[i] - o[i,i]) > tolerance) \\\n",
    "        | (np.abs(testRow[i] - r[i,i]) > tolerance) | (np.abs(testColumn[i] - c[i,i]) > tolerance):\n",
    "        print(str(i) + \" failed: expected \" + str([testModule[i], testOutput[i], testRow[i], testColumn[i]]))\n",
    "        print(\"      got \" + str([m[i,i], o[i,i], r[i,i], c[i,i]]))\n",
    "        allOK = False\n",
    "if allOK:\n",
    "    print(\"all at once, everthing is OK\")\n",
    "    \n"
   ]
  },
  {
   "cell_type": "code",
   "execution_count": 6,
   "metadata": {},
   "outputs": [
    {
     "name": "stdout",
     "output_type": "stream",
     "text": [
      "same RA/DEC pairs at a multiple mjds, everthing is OK\n"
     ]
    }
   ],
   "source": [
    "# test same RA/DEC pairs at multple MJDs\n",
    "multMjdRange = list(range(0,10));\n",
    "testMjds = testData[multMjdRange,0];\n",
    "testRas = testData[multMjdRange,1];\n",
    "testDecs = testData[multMjdRange,2];\n",
    "testModule = testData[multMjdRange,3];\n",
    "testOutput = testData[multMjdRange,4];\n",
    "testRow = testData[multMjdRange,5];\n",
    "testColumn = testData[multMjdRange,6];\n",
    "\n",
    "m, o, r, c = rdp.ra_dec_2_pix(testRas[0], testDecs[0], testMjds);\n",
    "allOK = True;\n",
    "for i in range(len(testMjds)):\n",
    "    if (np.abs(testModule[i] - m[i]) > tolerance) | (np.abs(testOutput[i] - o[i]) > tolerance) \\\n",
    "        | (np.abs(testRow[i] - r[i]) > tolerance) | (np.abs(testColumn[i] - c[i]) > tolerance):\n",
    "        print(str(i) + \" failed: expected \" + str([testModule[i], testOutput[i], testRow[i], testColumn[i]]))\n",
    "        print(\"      got \" + str([m[i], o[i], r[i], c[i]]))\n",
    "        allOK = False\n",
    "if allOK:\n",
    "    print(\"same RA/DEC pairs at a multiple mjds, everthing is OK\")\n",
    "    \n"
   ]
  },
  {
   "cell_type": "code",
   "execution_count": 7,
   "metadata": {
    "scrolled": true
   },
   "outputs": [
    {
     "name": "stdout",
     "output_type": "stream",
     "text": [
      "multiple the RA/DEC pairs at a single MJD, everthing is OK\n"
     ]
    }
   ],
   "source": [
    "# test multiple the RA/DEC pairs at a single MJD\n",
    "multMjdRange = list(range(12,21));\n",
    "testMjds = testData[multMjdRange,0];\n",
    "testRas = testData[multMjdRange,1];\n",
    "testDecs = testData[multMjdRange,2];\n",
    "testModule = testData[multMjdRange,3];\n",
    "testOutput = testData[multMjdRange,4];\n",
    "testRow = testData[multMjdRange,5];\n",
    "testColumn = testData[multMjdRange,6];\n",
    "\n",
    "m, o, r, c = rdp.ra_dec_2_pix(testRas, testDecs, testMjds[0]);\n",
    "allOK = True;\n",
    "for i in range(len(testMjds)):\n",
    "    if (np.abs(testModule[i] - m[i]) > tolerance) | (np.abs(testOutput[i] - o[i]) > tolerance) \\\n",
    "        | (np.abs(testRow[i] - r[i]) > tolerance) | (np.abs(testColumn[i] - c[i]) > tolerance):\n",
    "        print(str(i) + \" failed: expected \" + str([testModule[i], testOutput[i], testRow[i], testColumn[i]]))\n",
    "        print(\"      got \" + str([m[i], o[i], r[i], c[i]]))\n",
    "        allOK = False\n",
    "if allOK:\n",
    "    print(\"multiple the RA/DEC pairs at a single MJD, everthing is OK\")\n",
    "    \n"
   ]
  },
  {
   "cell_type": "code",
   "execution_count": 8,
   "metadata": {},
   "outputs": [],
   "source": [
    "# pointingTest specified pointing and added delta pointing\n",
    "pointingTestData = np.loadtxt('raDec2PixDir/raDec2PixTestDataPointings.txt', skiprows=0, delimiter=\",\");\n",
    "pointingTestMjds = pointingTestData[:,0];\n",
    "pointingTestRas = pointingTestData[:,1];\n",
    "pointingTestDecs = pointingTestData[:,2];\n",
    "pointingTestModule = pointingTestData[:,3];\n",
    "pointingTestOutput = pointingTestData[:,4];\n",
    "pointingTestRow = pointingTestData[:,5];\n",
    "pointingTestColumn = pointingTestData[:,6];\n",
    "pointingTestRaPointings = pointingTestData[:,7];\n",
    "pointingTestDecPointings = pointingTestData[:,8];\n",
    "pointingTestRollPointings = pointingTestData[:,9];\n",
    "pointingTestRaDeltas = pointingTestData[:,10];\n",
    "pointingTestDecDeltas = pointingTestData[:,11];\n",
    "pointingTestRollDeltas = pointingTestData[:,12];\n"
   ]
  },
  {
   "cell_type": "code",
   "execution_count": 9,
   "metadata": {},
   "outputs": [
    {
     "name": "stdout",
     "output_type": "stream",
     "text": [
      "one at a time, everthing is OK\n"
     ]
    }
   ],
   "source": [
    "# test one at a time\n",
    "allOK = True;\n",
    "\n",
    "for i in range(len(testMjds)):\n",
    "    m, o, r, c = rdp.ra_dec_2_pix(pointingTestRas[i], pointingTestDecs[i], pointingTestMjds[i], \n",
    "                                 pointingTestRaPointings[i], pointingTestDecPointings[i], pointingTestRollPointings[i],\n",
    "                                 pointingTestRaDeltas[i], pointingTestDecDeltas[i], pointingTestRollDeltas[i]);\n",
    "    \n",
    "    if (np.abs(pointingTestModule[i] - m) > tolerance) | (np.abs(pointingTestOutput[i] - o) > tolerance) \\\n",
    "        | (np.abs(pointingTestRow[i] - r) > tolerance) | (np.abs(pointingTestColumn[i] - c) > tolerance):\n",
    "        print(str(i) + \" failed: expected \" + str([testModule[i], testOutput[i], testRow[i], testColumn[i]]))\n",
    "        print(\"      got \" + str([m, o, r, c]))\n",
    "        allOK = False\n",
    "if allOK:\n",
    "    print(\"one at a time, everthing is OK\")\n",
    "    \n"
   ]
  },
  {
   "cell_type": "code",
   "execution_count": 10,
   "metadata": {},
   "outputs": [
    {
     "name": "stdout",
     "output_type": "stream",
     "text": [
      "all at once, everthing is OK\n"
     ]
    }
   ],
   "source": [
    "# test all at once, with pointing supplied\n",
    "m, o, r, c = rdp.ra_dec_2_pix(pointingTestRas[0:4], pointingTestDecs[0:4], pointingTestMjds[0:4], \n",
    "                             raPointing=pointingTestRaPointings[0:4], decPointing=pointingTestDecPointings[0:4], \n",
    "                              rollPointing=pointingTestRollPointings[0:4]);\n",
    "# returns matrices\n",
    "allOK = True;\n",
    "\n",
    "for i in range(0,4):\n",
    "    if (np.abs(pointingTestModule[i] - m[i,i]) > tolerance) | (np.abs(pointingTestOutput[i] - o[i,i]) > tolerance) \\\n",
    "        | (np.abs(pointingTestRow[i] - r[i,i]) > tolerance) | (np.abs(pointingTestColumn[i] - c[i,i]) > tolerance):\n",
    "        print(str(i) + \" failed: expected \" + str([testModule[i], testOutput[i], testRow[i], testColumn[i]]))\n",
    "        print(\"      got \" + str([m[i,i], o[i,i], r[i,i], c[i,i]]))\n",
    "        allOK = False\n",
    "if allOK:\n",
    "    print(\"all at once, everthing is OK\")\n",
    "    \n"
   ]
  },
  {
   "cell_type": "code",
   "execution_count": 11,
   "metadata": {},
   "outputs": [
    {
     "name": "stdout",
     "output_type": "stream",
     "text": [
      "all at once, everthing is OK\n"
     ]
    }
   ],
   "source": [
    "# test all at once, with deltas supplied\n",
    "m, o, r, c = rdp.ra_dec_2_pix(pointingTestRas[4:9], pointingTestDecs[4:9], pointingTestMjds[4:9], \n",
    "                              deltaRa=pointingTestRaDeltas[4:9], deltaDec=pointingTestDecDeltas[4:9],\n",
    "                                deltaRoll=pointingTestRollDeltas[4:9]);\n",
    "# returns matrices\n",
    "allOK = True;\n",
    "\n",
    "for i in range(0,5):\n",
    "    if (np.abs(pointingTestModule[i+4] - m[i,i]) > tolerance) | (np.abs(pointingTestOutput[i+4] - o[i,i]) > tolerance) \\\n",
    "        | (np.abs(pointingTestRow[i+4] - r[i,i]) > tolerance) | (np.abs(pointingTestColumn[i+4] - c[i,i]) > tolerance):\n",
    "        print(str(i) + \" failed: expected \" + str([testModule[i+4], testOutput[i+4], testRow[i+4], testColumn[i+4]]))\n",
    "        print(\"      got \" + str([m[i,i], o[i,i], r[i,i], c[i,i]]))\n",
    "        allOK = False\n",
    "if allOK:\n",
    "    print(\"all at once, everthing is OK\")\n",
    "    \n"
   ]
  },
  {
   "cell_type": "code",
   "execution_count": 12,
   "metadata": {},
   "outputs": [
    {
     "name": "stdout",
     "output_type": "stream",
     "text": [
      "all at once, everthing is OK\n"
     ]
    }
   ],
   "source": [
    "# test both pointing and delta inputs\n",
    "# this is not supported in the matlab version, so make test data by \n",
    "# setting the pointing input to the sum of pointing + delta\n",
    "\n",
    "combTestRas = pointingTestRaPointings[0:4] + pointingTestRaDeltas[4:8]\n",
    "combTestDecs = pointingTestDecPointings[0:4] + pointingTestDecDeltas[4:8]\n",
    "combTestRolls = pointingTestRollPointings[0:4] + pointingTestRollDeltas[4:8]\n",
    "\n",
    "combTestModule, combTestOutput, combTestRow, combTestCol \\\n",
    "    = rdp.ra_dec_2_pix(pointingTestRas[0:4], pointingTestDecs[0:4], pointingTestMjds[0:4], \n",
    "                             raPointing=combTestRas[0:4], decPointing=combTestDecs[0:4], \n",
    "                              rollPointing=combTestRolls[0:4]);\n",
    "# returns matrices\n",
    "# now compute with the pointing and deltas as separate inputs\n",
    "\n",
    "m, o, r, c = rdp.ra_dec_2_pix(pointingTestRas[0:4], pointingTestDecs[0:4], pointingTestMjds[0:4], \n",
    "                             raPointing=pointingTestRaPointings[0:4], decPointing=pointingTestDecPointings[0:4], \n",
    "                              rollPointing=pointingTestRollPointings[0:4],\n",
    "                               deltaRa=pointingTestRaDeltas[4:8], deltaDec=pointingTestDecDeltas[4:8],\n",
    "                                deltaRoll=pointingTestRollDeltas[4:8]);\n",
    "\n",
    "if np.all(np.all(np.abs(combTestModule - m)<tolerance)) & np.all(np.all(np.abs(combTestOutput - o)<tolerance)) \\\n",
    "    & np.all(np.all(np.abs(combTestRow - r)<tolerance)) & np.all(np.all(np.abs(combTestCol - c)<tolerance)):\n",
    "    print(\"all at once, everthing is OK\")\n",
    "else:\n",
    "    print(\"failed\")\n"
   ]
  },
  {
   "cell_type": "code",
   "execution_count": null,
   "metadata": {},
   "outputs": [],
   "source": []
  },
  {
   "cell_type": "code",
   "execution_count": null,
   "metadata": {},
   "outputs": [],
   "source": []
  },
  {
   "cell_type": "code",
   "execution_count": null,
   "metadata": {},
   "outputs": [],
   "source": []
  },
  {
   "cell_type": "code",
   "execution_count": null,
   "metadata": {},
   "outputs": [],
   "source": []
  }
 ],
 "metadata": {
  "kernelspec": {
   "display_name": "Python 3",
   "language": "python",
   "name": "python3"
  },
  "language_info": {
   "codemirror_mode": {
    "name": "ipython",
    "version": 3
   },
   "file_extension": ".py",
   "mimetype": "text/x-python",
   "name": "python",
   "nbconvert_exporter": "python",
   "pygments_lexer": "ipython3",
   "version": "3.6.10"
  }
 },
 "nbformat": 4,
 "nbformat_minor": 2
}
